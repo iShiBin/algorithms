{
 "cells": [
  {
   "cell_type": "markdown",
   "id": "5ddc7527-bc2c-4c2d-86c5-4b3ecb891d76",
   "metadata": {
    "tags": []
   },
   "source": [
    "# Advance Through an Array\n",
    "\n",
    "In a particular board game, a player has to advance through a sequence of positions. Each positions has a nonnegative integer associated with it, representing the maximum you can advance from that osition in one move. You begin at the first position, and win by getting to the last position.\n",
    "\n",
    "For example, let A = [3, 3, 1, 0, 2, 0, 1] represent the board game, i.e., the ith entry in A is the maximum we an advance from i, Then the game can be won by the following sequence of teh advances through A: A[0] (3) → A[1] (3) → A[4] (2) → A[6]\n",
    "\n",
    "If A was [3, 2, 0, 0, 2, 0, 1], it would not possible to advance past position A[0] (3) so the game cannot be won. This is because A[0] (3) → A[1] (2) → 0, A[0] (3) → A[2] (0) → 0 and A[0] (3) → A[3] (0) → 0.\n",
    "\n",
    "## Abstract\n",
    "\n",
    "Write a program which takes an array of integers, which A[i] denotes the maximum you can advance from index i, and returns whether it is possible to advance to the last index starting from the beginning of the array.\n",
    "\n",
    "Example 1:\n",
    "```\n",
    "Input: [3, 3, 1, 0, 2, 0, 1]\n",
    "Ouput: True\n",
    "Explaination: 3 -> 3 -> 2 -> 1\n",
    "```\n",
    "\n",
    "Example 2:\n",
    "```\n",
    "Input: [3, 2, 0, 0, 2, 0, 1]\n",
    "Output: False\n",
    "Explaination: Cannot further advance after 3. \n",
    "```\n",
    "\n",
    "Example 3:\n",
    "```\n",
    "Input: [0]\n",
    "Output: True\n",
    "Explaination: The start point is already the last index.\n",
    "```\n",
    "\n",
    "**Hint**: Analyze each location, starting from the beginning."
   ]
  },
  {
   "cell_type": "markdown",
   "id": "7b06375f-31a1-49d4-bd79-f08e2153f8ae",
   "metadata": {},
   "source": [
    "## Solution: Furthest to go at each index\n",
    "\n",
    "It is natrual to try advancing as far as possible in each step. This approach does not always work, because it potentially skips indices containing large entries. For example, if A = [2, 4, 1, 1, 0, 2, 3], advancing from A[0] furthest 2 steps goes to A[2] (1) → A[3] (1) → A[4] (0), after which it cannot progress. However, advancing to index 1, which contains a 4 lets us proceed to index 5, from which we can advance to index 6.\n",
    "\n",
    "The above example suggests iterating through ::all entries:: in A. As we iterate through the array, we track the furthest index we know we can advance to, which is the max of the furthest index to reach at index i-1, and i + A[i].\n",
    "\n",
    "For example, if A = [3, 3, 1, 0, 2, 0, 1], we iteratively compute the furthest we can advance at each index i.\n",
    "\n",
    "| **i**     | 0    | 1    | 2    | 3    | 4    | 5    | 6    |\n",
    "| ---------- | ---- | ---- | ---- | ---- | ---- | ---- | ---- |\n",
    "| **A[i]**   | 3    | 3    | 1    | 0    | 2    | 0    | 1    |\n",
    "| **i + A[i]** | 3    | 4    | 2    | 3    | 6    | 5    | 7    |\n",
    "| **furthest** | 3    | 4    | 4    | 4    | 6    |      |      |\n",
    "\n",
    "The `furthest` denotes the furthest position this index could reach, which has a default value of 0.\n",
    "\n",
    "If A = [3, 2, 0, 0, 2, 0, 1], we iteratively update the furthest we can advance to as 0, 3, 3, 3, 3, after which we cannot advance, so it is not possible to reach the last index.\n",
    "\n",
    "| **i**        | 0    | 1    | 2    | 3    | 4    | 5    | 6    |\n",
    "| ------------ | ---- | ---- | ---- | ---- | ---- | ---- | ---- |\n",
    "| **A[i]**     | 3    | 2    | 0    | 0    | 2    | 0    | 1    |\n",
    "| **i + A[i]** | 3    | 3    | 2    | 3    | 6    | 5    | 7    |\n",
    "| **furthest** | 3    | 3    | 3    | 3    |      |      |      |\n",
    "\n",
    "Let f(i) denotes the furthest index at index i could advance:\n",
    "* $f(i) = max(f(i-1), \\ i+A[i])$ when $f(i-1) >= i$\n",
    "* when $f(i-1) < i$, it is not possible to advance to position `[i]` so the program exit!\n",
    "* f(-1) = 0 as default\n",
    "\n",
    "**Time complexity**: $O(n)$  \n",
    "**Space complexity**: $O(1)$"
   ]
  },
  {
   "cell_type": "code",
   "execution_count": 1,
   "id": "b31cf39e-fddb-4459-a987-2f0e371bccd7",
   "metadata": {},
   "outputs": [],
   "source": [
    "def can_reach_end(A: list) -> bool:\n",
    "    reached_index, last_index = 0, len(A) - 1\n",
    "    i = 0\n",
    "    while reached_index < last_index and reached_index >= i:\n",
    "        reached_index = max(reached_index, i + A[i])\n",
    "        i += 1\n",
    "    return reached_index >= last_index"
   ]
  },
  {
   "cell_type": "code",
   "execution_count": 2,
   "id": "493db1ce-7301-45b5-8cd1-529f091a2c42",
   "metadata": {},
   "outputs": [],
   "source": [
    "assert can_reach_end([3, 3, 1, 0, 2, 0, 1]) is True\n",
    "assert can_reach_end([3, 2, 0, 0, 2, 0, 1]) is False\n",
    "assert can_reach_end([0]) is True"
   ]
  },
  {
   "cell_type": "markdown",
   "id": "24407b44-edc6-4f70-9b4f-b67f19c31846",
   "metadata": {},
   "source": [
    "## Follow-ups: Compute the path of the minimum steps to reach the end.\n",
    "\n",
    "Assuming it can reach the end index, display the indices with minimum steps to move to the end.\n",
    "\n",
    "The algorithm is greedy, which is to choose the optimal index, which can advance furthest in the **next** move.\n",
    "\n",
    "Taking [3, 3, 1, 0, 2, 0, 1] for example, index 0 is 3 (denote [0] (3)), which means the next steps it can advace are:\n",
    "```\n",
    "[1] (3) -> 4 *\n",
    "[2] (1) -> 3\n",
    "[3] (0) -> 3\n",
    "```\n",
    "\n",
    "Thus, index [1] with value 4 is the optimal of the next move. Then the next step from index [1] (4), select the next optimal index:\n",
    "```\n",
    "[2] (1) -> 3 -\n",
    "[3] (0) -> 3 -\n",
    "[4] (2) -> 6 *\n",
    "[5] (0) -> 5\n",
    "```\n",
    "\n",
    "So the position with index [4] is the best, can it can reach index 6, which is the last index in this array. This approach lead the minimum stpes are index [0] -> [1] -> [4] -> [6].\n",
    "\n",
    "We can optimize the algorithm by avoiding the duplicated compare (mark with `-` in the above steps). These two steps are caculated in the last step, so we just start from the next index of index [3], which is index [4]."
   ]
  },
  {
   "cell_type": "code",
   "execution_count": 3,
   "id": "94ad380b-7d9f-42ba-8783-87cdd746829b",
   "metadata": {},
   "outputs": [],
   "source": [
    "def steps_to_reach_end(A: list) -> bool:\n",
    "    steps = [0]\n",
    "    while steps[-1] < len(A) - 1:\n",
    "        last_reached_index = steps[-1]\n",
    "        reaching_index_length = A[last_reached_index]\n",
    "        if last_reached_index + reaching_index_length > len(A):\n",
    "            steps.append(len(A) - 1)\n",
    "            break\n",
    "        B = [i + A[i] for i in range(last_reached_index, last_reached_index + reaching_index_length+1)]\n",
    "        next_step = last_reached_index + B.index(max(B))\n",
    "        steps.append(next_step)\n",
    "    return steps"
   ]
  },
  {
   "cell_type": "code",
   "execution_count": 4,
   "id": "6c92fe24-fa2d-4161-b955-daf39699c4ef",
   "metadata": {},
   "outputs": [],
   "source": [
    "assert steps_to_reach_end([3, 3, 1, 0, 2, 0, 1]) == [0, 1, 4, 6]"
   ]
  },
  {
   "cell_type": "markdown",
   "id": "2fd61d43-2084-4ff0-b440-42f9e7244fd9",
   "metadata": {},
   "source": [
    "Refs: [EPI 5.4](https://github.com/adnanaziz/EPIJudge/blob/master/epi_judge_python_solutions/advance_by_offsets.py)"
   ]
  }
 ],
 "metadata": {
  "kernelspec": {
   "display_name": "Python 3 (ipykernel)",
   "language": "python",
   "name": "python3"
  },
  "language_info": {
   "codemirror_mode": {
    "name": "ipython",
    "version": 3
   },
   "file_extension": ".py",
   "mimetype": "text/x-python",
   "name": "python",
   "nbconvert_exporter": "python",
   "pygments_lexer": "ipython3",
   "version": "3.8.9"
  }
 },
 "nbformat": 4,
 "nbformat_minor": 5
}
