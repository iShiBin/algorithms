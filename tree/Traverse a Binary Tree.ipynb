{
 "cells": [
  {
   "cell_type": "code",
   "execution_count": 1,
   "id": "ebc87fc8-9e50-4cb9-959b-339d0598077d",
   "metadata": {},
   "outputs": [],
   "source": [
    "# Definition for a binary tree node.\n",
    "class TreeNode:\n",
    "    def __init__(self, x):\n",
    "        self.val = x\n",
    "        self.left = None\n",
    "        self.right = None"
   ]
  },
  {
   "cell_type": "code",
   "execution_count": 8,
   "id": "23c93d6d-b6ac-42ff-97ae-b3d6cdcf3ba9",
   "metadata": {},
   "outputs": [],
   "source": [
    "# Test the preorder traverse using tree in Example 2 [3,5,1,6,2,0,8,null,null,7,4]\n",
    "\n",
    "#      3\n",
    "#    /   \\   \n",
    "#   5     1  \n",
    "#  / \\   / \\\n",
    "# 6  2  0  8\n",
    "#   / \\\n",
    "#  7  4\n",
    "\n",
    "values = [3,5,1,6,2,0,8,None,None,7,4]\n",
    "nodes = [TreeNode(x) for x in values if x != None]\n",
    "root = nodes[0]\n",
    "\n",
    "nodes[0].left, nodes[0].right = nodes[1], nodes[2]\n",
    "nodes[1].left, nodes[1].right = nodes[3], nodes[4]\n",
    "nodes[2].left, nodes[2].right = nodes[5], nodes[6]\n",
    "nodes[4].left, nodes[4].right = nodes[7], nodes[8]"
   ]
  },
  {
   "cell_type": "code",
   "execution_count": 9,
   "id": "21ccb2b3-74ca-481c-bc84-369b831ba505",
   "metadata": {},
   "outputs": [],
   "source": [
    "# Preorder: Processes the root before the traversals of left and right children.\n",
    "\n",
    "def traverse_tree_preorder(node, path=[]):\n",
    "    if not node: return path\n",
    "    path.append(node.val)  # or node\n",
    "    if node.left:\n",
    "        traverse_tree_preorder(node.left, path)\n",
    "    if node.right:\n",
    "        traverse_tree_preorder(node.right, path)\n",
    "    return path"
   ]
  },
  {
   "cell_type": "code",
   "execution_count": 10,
   "id": "87e7ca0b-5ad6-4479-bbe4-0668f29afa04",
   "metadata": {},
   "outputs": [
    {
     "data": {
      "text/plain": [
       "[3, 5, 6, 2, 7, 4, 1, 0, 8]"
      ]
     },
     "execution_count": 10,
     "metadata": {},
     "output_type": "execute_result"
    }
   ],
   "source": [
    "traverse_tree_preorder(root)"
   ]
  },
  {
   "cell_type": "code",
   "execution_count": 5,
   "id": "3a071bdd-8b7e-4eba-aa0a-97070da3402d",
   "metadata": {},
   "outputs": [],
   "source": [
    "# find path to a node value\n",
    "# refs: https://www.baeldung.com/cs/path-from-root-to-node-binary-tree\n",
    "\n",
    "def find_path(root, value):\n",
    "    def search(node, target):\n",
    "        if not node:\n",
    "            return False\n",
    "        path.append(node.val)\n",
    "        if node.val == target or search(node.left, target) or search(node.right, target):\n",
    "            return True\n",
    "        else:\n",
    "            path.pop()\n",
    "            return False\n",
    "\n",
    "    path = []\n",
    "    search(root, value)\n",
    "    return path"
   ]
  },
  {
   "cell_type": "code",
   "execution_count": 6,
   "id": "17e933c2-511d-4e6c-830c-31b289f292fa",
   "metadata": {},
   "outputs": [
    {
     "data": {
      "text/plain": [
       "[3, 5, 2, 4]"
      ]
     },
     "execution_count": 6,
     "metadata": {},
     "output_type": "execute_result"
    }
   ],
   "source": [
    "find_path(root, 4)"
   ]
  },
  {
   "cell_type": "code",
   "execution_count": null,
   "id": "809d8799-9f8c-493e-8a4f-f40f51239e2e",
   "metadata": {},
   "outputs": [],
   "source": []
  }
 ],
 "metadata": {
  "kernelspec": {
   "display_name": "Python 3 (ipykernel)",
   "language": "python",
   "name": "python3"
  },
  "language_info": {
   "codemirror_mode": {
    "name": "ipython",
    "version": 3
   },
   "file_extension": ".py",
   "mimetype": "text/x-python",
   "name": "python",
   "nbconvert_exporter": "python",
   "pygments_lexer": "ipython3",
   "version": "3.8.9"
  }
 },
 "nbformat": 4,
 "nbformat_minor": 5
}
