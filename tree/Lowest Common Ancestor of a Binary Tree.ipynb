{
 "cells": [
  {
   "cell_type": "markdown",
   "id": "84ae79c8-4cac-48f1-819a-2a6cc134d757",
   "metadata": {},
   "source": [
    "## [Lowest Common Ancestor of a Binary Tree](https://leetcode.com/problems/lowest-common-ancestor-of-a-binary-tree/)\n",
    "\n",
    "Given a binary tree, find the lowest common ancestor (LCA) of two given nodes in the tree.\n",
    "\n",
    "According to the definition of LCA on Wikipedia: “The lowest common ancestor is defined between two nodes p and q as the lowest node in T that has both p and q as descendants (where we allow a node to be a descendant of itself).”\n",
    "\n",
    "Example 1:\n",
    "```\n",
    "Input: root = [3,5,1,6,2,0,8,null,null,7,4], p = 5, q = 1\n",
    "Output: 3\n",
    "Explanation: The LCA of nodes 5 and 1 is 3.\n",
    "\n",
    "     3\n",
    "   /   \\   \n",
    "  5     1  \n",
    " / \\   / \\\n",
    "6  2  0  8\n",
    "  / \\\n",
    " 7  4\n",
    "```\n",
    "\n",
    "Example 2:\n",
    "```\n",
    "Input: root = [3,5,1,6,2,0,8,null,null,7,4], p = 5, q = 4\n",
    "Output: 5\n",
    "Explanation: The LCA of nodes 5 and 4 is 5, since a node can be a descendant of itself according to the LCA definition.\n",
    "\n",
    "     3\n",
    "   /   \\   \n",
    "  5     1  \n",
    " / \\   / \\\n",
    "6  2  0  8\n",
    "  / \\\n",
    " 7  4\n",
    "```\n",
    "\n",
    "Example 3:\n",
    "```\n",
    "Input: root = [1,2], p = 1, q = 2\n",
    "Output: 1\n",
    "```\n",
    "\n",
    "**Constraints**:  \n",
    "\n",
    "* The number of nodes in the tree is in the range [2, 105].\n",
    "* $-10^9 <= Node.val <= 10^9$\n",
    "* All Node.val are unique.\n",
    "* p != q\n",
    "* p and q will exist in the tree."
   ]
  },
  {
   "cell_type": "code",
   "execution_count": 56,
   "id": "97c7ed5b-48d2-45ea-b9d2-1cde63311f59",
   "metadata": {},
   "outputs": [],
   "source": [
    "# Definition for a binary tree node.\n",
    "class TreeNode:\n",
    "    def __init__(self, x):\n",
    "        self.val = x\n",
    "        self.left = None\n",
    "        self.right = None"
   ]
  },
  {
   "cell_type": "markdown",
   "id": "2183ec34-6c21-4436-9b8e-cefb51269bb5",
   "metadata": {},
   "source": [
    "### Approach I: Intution $O(n), O(n)$\n",
    "\n",
    "Find the path (depth first search) to each of the two nodes p and q, and then find the last common node. Taking the example 2 to illustrate:\n",
    "\n",
    "Path to p: 3, 5  \n",
    "Path to q: 3, 5, 2, 4\n",
    "\n",
    "So the last common node in their path is 5, which is the lowest ancestor node."
   ]
  },
  {
   "cell_type": "code",
   "execution_count": 53,
   "id": "c8c7cbb1-e9fa-44f6-9030-7fd9f6df99fc",
   "metadata": {},
   "outputs": [],
   "source": [
    "# helper function to return the path from the root to a node with target value\n",
    "\n",
    "def find_path(root: TreeNode, value:int)-> list:\n",
    "    def search(node, target):\n",
    "        if not node:\n",
    "            return False\n",
    "        path.append(node.val)\n",
    "        if node.val == target or search(node.left, target) or search(node.right, target):\n",
    "            return True\n",
    "        else:\n",
    "            path.pop()\n",
    "            return False\n",
    "\n",
    "    path = []\n",
    "    search(root, value)\n",
    "    return path\n",
    "\n",
    "def find_lca(root: TreeNode, p:int, q:int) -> int:\n",
    "    A = find_path(root, p)\n",
    "    B = find_path(root, q)\n",
    "    \n",
    "    i = 0\n",
    "    while i < len(A):\n",
    "        if A[i] != B[i]:\n",
    "            return A[i-1]\n",
    "        else:\n",
    "            i += 1\n",
    "    return A[-1]"
   ]
  },
  {
   "cell_type": "code",
   "execution_count": 60,
   "id": "b13c3a29-815e-4bc1-b337-020f5175e5ca",
   "metadata": {},
   "outputs": [],
   "source": [
    "# Test the preorder traverse using tree in Example 2 [3,5,1,6,2,0,8,null,null,7,4]\n",
    "\n",
    "values = [3,5,1,6,2,0,8,None,None,7,4]\n",
    "nodes = [TreeNode(x) for x in values if x != None]\n",
    "\n",
    "root = nodes[0]\n",
    "nodes[0].left, nodes[0].right = nodes[1], nodes[2]\n",
    "nodes[1].left, nodes[1].right = nodes[3], nodes[4]\n",
    "nodes[2].left, nodes[2].right = nodes[5], nodes[6]\n",
    "nodes[4].left, nodes[4].right = nodes[7], nodes[8]\n",
    "\n",
    "assert find_lca(root, 5, 1) == 3\n",
    "assert find_lca(root, 5, 4) == 5\n",
    "assert find_lca(root, 1, 2) == 3\n",
    "assert find_lca(root, 6, 4) == 5"
   ]
  },
  {
   "cell_type": "markdown",
   "id": "4c0c79db-b702-4345-ad26-9b0110073622",
   "metadata": {},
   "source": [
    "### Approach II: Smart recusion\n",
    "\n",
    "> It's recursive and expands the meaning of the function. If the current (sub)tree contains both p and q, then the function result is their LCA. If only one of them is in that subtree, then the result is that one of them. If neither are in that subtree, the result is null/None/nil.  \n",
    "by StefanPochmann, https://leetcode.com/problems/lowest-common-ancestor-of-a-binary-tree/discuss/65225/4-lines-C%2B%2BJavaPythonRuby"
   ]
  },
  {
   "cell_type": "code",
   "execution_count": 62,
   "id": "0c327db5-820e-4630-9f93-3fc327c84cfd",
   "metadata": {},
   "outputs": [],
   "source": [
    "# Definition for a binary tree node.\n",
    "# class TreeNode:\n",
    "#     def __init__(self, x):\n",
    "#         self.val = x\n",
    "#         self.left = None\n",
    "#         self.right = None\n",
    "\n",
    "class Solution:\n",
    "    def lowestCommonAncestor(self, root, p, q):\n",
    "        if root in (None, p, q): return root\n",
    "        left, right = (self.lowestCommonAncestor(kid, p, q)\n",
    "                       for kid in (root.left, root.right))\n",
    "        return root if left and right else left or right"
   ]
  },
  {
   "cell_type": "markdown",
   "id": "eb1d3f4e-ac27-4603-9a0f-2909d0582ceb",
   "metadata": {},
   "source": [
    "## (Variant) 235. Lowest Common Ancestor of a Binary Search Tree\n",
    "https://leetcode.com/problems/lowest-common-ancestor-of-a-binary-search-tree/\n",
    "\n",
    "Given a binary search tree (BST), find the lowest common ancestor (LCA) of two given nodes in the BST.\n",
    "\n",
    "According to the definition of LCA on Wikipedia: “The lowest common ancestor is defined between two nodes p and q as the lowest node in T that has both p and q as descendants (where we allow a node to be a descendant of itself).”"
   ]
  },
  {
   "cell_type": "markdown",
   "id": "0fafda28-4c47-4ed2-bb0a-de99e96ebecb",
   "metadata": {},
   "source": [
    "### Approach: Recusion\n",
    "\n",
    "It is easier to know the LCA's location based on the product of the different of these two values $product = (root.val - p.va) * (root.val - q.val)$ to the root:\n",
    "* product < 0 => LCA is the current node since one is on its left and the other one is on the right\n",
    "* product > 0:\n",
    "    - LCA is on the left sub-tree if p < the current node's value (q is also < in this case since their product > 0)\n",
    "    - LCA is on the right sub-tree otherwise\n"
   ]
  },
  {
   "cell_type": "code",
   "execution_count": 63,
   "id": "20139af5-2dc3-4425-9a35-e157b6979a46",
   "metadata": {},
   "outputs": [],
   "source": [
    "# Definition for a binary tree node.\n",
    "# class TreeNode:\n",
    "#     def __init__(self, x):\n",
    "#         self.val = x\n",
    "#         self.left = None\n",
    "#         self.right = None\n",
    "\n",
    "class Solution:\n",
    "    def lowestCommonAncestor(self, root, p, q):\n",
    "        while (root.val - p.val) * (root.val - q.val) > 0:\n",
    "            root = (root.left, root.right)[p.val > root.val]  # amazing grama\n",
    "        return root"
   ]
  },
  {
   "cell_type": "markdown",
   "id": "a2f55542-6336-478b-acde-9ebc7930e41c",
   "metadata": {},
   "source": [
    "## (Variant) 1644. Lowest Common Ancestor of a Binary Tree II\n",
    "https://leetcode.com/problems/lowest-common-ancestor-of-a-binary-tree-ii/\n",
    "\n",
    "The given node p or q may not in the binary tree, and return None in this case.\n",
    "\n",
    "**Constraints**:  \n",
    "\n",
    "* The number of nodes in the tree is in the range [1, 104].\n",
    "* $-10^9 <= Node.val <= 10^9$\n",
    "* All Node.val are unique.\n",
    "* p != q\n",
    " \n",
    "\n",
    "**Follow up**:\n",
    "Can you find the LCA traversing the tree, without checking nodes existence?"
   ]
  },
  {
   "cell_type": "code",
   "execution_count": 64,
   "id": "a2dfcb64-d5e0-4d66-97fe-1e592248d248",
   "metadata": {
    "tags": []
   },
   "outputs": [],
   "source": [
    "### Approach 1: Reuse the algorithm when both nodes are in the tree\n",
    "\n",
    "class Solution:\n",
    "    def lowestCommonAncestor(self, root: 'TreeNode', p: 'TreeNode', q: 'TreeNode') -> 'TreeNode':\n",
    "        A = self.find_path(root, p)\n",
    "        B = self.find_path(root, q)\n",
    "\n",
    "        if not A or not B: return None\n",
    "        for e in reversed(A):\n",
    "            if e in set(B):\n",
    "                return e\n",
    "    \n",
    "    def find_path(self, root: TreeNode, value: TreeNode)-> list:\n",
    "        def search(node, target):\n",
    "            if not node:\n",
    "                return False\n",
    "            path.append(node)\n",
    "            if node == target or search(node.left, target) or search(node.right, target):\n",
    "                return True\n",
    "            else:\n",
    "                path.pop()\n",
    "                return False\n",
    "\n",
    "        path = []\n",
    "        search(root, value)\n",
    "        return path"
   ]
  },
  {
   "cell_type": "markdown",
   "id": "a9ee007c-9351-4241-bdc8-9f8e704bc7e7",
   "metadata": {},
   "source": [
    "### Appraoch 2: Use a flag to record whether these two nodes are found"
   ]
  },
  {
   "cell_type": "markdown",
   "id": "c9162cbd-2718-4b3d-ae9b-10757536b06c",
   "metadata": {
    "tags": []
   },
   "source": [
    "## (Variant) 1650. Lowest Common Ancestor of a Binary Tree III\n",
    "Given two nodes of a binary tree p and q, return their lowest common ancestor (LCA).\n",
    "\n",
    "Each node will have **a reference to its parent node**. The definition for Node is below:\n",
    "\n",
    "```\n",
    "class Node {\n",
    "    public int val;\n",
    "    public Node left;\n",
    "    public Node right;\n",
    "    public Node parent;\n",
    "}\n",
    "```\n",
    "\n",
    "According to the definition of LCA on Wikipedia: \"The lowest common ancestor of two nodes p and q in a tree T is the lowest node that has both p and q as descendants (where we allow a node to be a descendant of itself).\"\n",
    "\n",
    "**Constraints**:\n",
    "\n",
    "* The number of nodes in the tree is in the range [2, 105].\n",
    "* $-10^9 <= Node.val <= 10^9$\n",
    "* All Node.val are unique.\n",
    "* p != q\n",
    "* p and q exist in the tree."
   ]
  },
  {
   "cell_type": "code",
   "execution_count": 65,
   "id": "9ee076e6-710a-46da-91f1-f14651553b24",
   "metadata": {},
   "outputs": [],
   "source": [
    "\"\"\"\n",
    "# Definition for a Node.\n",
    "class Node:\n",
    "    def __init__(self, val):\n",
    "        self.val = val\n",
    "        self.left = None\n",
    "        self.right = None\n",
    "        self.parent = None\n",
    "\"\"\"\n",
    "\n",
    "class Solution:\n",
    "    def lowestCommonAncestor(self, p: 'Node', q: 'Node') -> 'Node':\n",
    "        A = []\n",
    "        while p:\n",
    "            A.append(p)\n",
    "            p = p.parent\n",
    "        \n",
    "        B = []\n",
    "        while q:\n",
    "            B.append(q)\n",
    "            q = q.parent\n",
    "        \n",
    "        t = set(B)\n",
    "        for e in A:\n",
    "            if e and e in t:\n",
    "                return e"
   ]
  },
  {
   "cell_type": "markdown",
   "id": "01ba3474-bb9d-4357-b794-643cbf47a8e0",
   "metadata": {},
   "source": [
    "### Approach 1: Two pointers to find the common element in two linked list\n",
    "\n",
    "This is like the smart algorithm to find the first common element in two linked list. Go through the list using two pointers and switch the pointer when one reaches to the end.\n",
    "\n",
    "refs: https://leetcode.com/problems/lowest-common-ancestor-of-a-binary-tree-iii/discuss/932499/Simple-Python-Solution-with-O(1)-space-complexity"
   ]
  },
  {
   "cell_type": "code",
   "execution_count": 66,
   "id": "351f647a-112c-4872-b02b-a8c9c4ceca88",
   "metadata": {},
   "outputs": [],
   "source": [
    "\"\"\"\n",
    "# Definition for a Node.\n",
    "class Node:\n",
    "    def __init__(self, val):\n",
    "        self.val = val\n",
    "        self.left = None\n",
    "        self.right = None\n",
    "        self.parent = None\n",
    "\"\"\"\n",
    "\n",
    "class Solution:\n",
    "    def lowestCommonAncestor(self, p: 'Node', q: 'Node') -> 'Node':\n",
    "        p1, p2 = p, q\n",
    "        while p1 != p2:\n",
    "            p1 = p1.parent if p1.parent else q\n",
    "            p2 = p2.parent if p2.parent else p\n",
    "            \n",
    "        return p1"
   ]
  },
  {
   "cell_type": "code",
   "execution_count": null,
   "id": "8cfe873b-6965-43ef-b726-e53e6f116c6d",
   "metadata": {},
   "outputs": [],
   "source": []
  }
 ],
 "metadata": {
  "kernelspec": {
   "display_name": "Python 3 (ipykernel)",
   "language": "python",
   "name": "python3"
  },
  "language_info": {
   "codemirror_mode": {
    "name": "ipython",
    "version": 3
   },
   "file_extension": ".py",
   "mimetype": "text/x-python",
   "name": "python",
   "nbconvert_exporter": "python",
   "pygments_lexer": "ipython3",
   "version": "3.8.9"
  }
 },
 "nbformat": 4,
 "nbformat_minor": 5
}
