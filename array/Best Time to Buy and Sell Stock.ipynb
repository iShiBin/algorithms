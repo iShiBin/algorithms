{
 "cells": [
  {
   "cell_type": "markdown",
   "id": "1a6dcabc-b8dd-416b-b06b-6e0a9547f23a",
   "metadata": {},
   "source": [
    "# Best time to buy and sell stock once\n",
    "\n",
    "Given a list the stock price `prices`, prices[i] is the price of a given stock on the i<sup>th</sup> day.  \n",
    "Write a program to return the max profit you can make by buying and sell this stock once.\n",
    "\n",
    "Example 1:\n",
    "```\n",
    "Input: prices = [7,1,5,3,6,4]\n",
    "Output: 5\n",
    "Explanation: Buy on day 2 (price = 1) and sell on day 5 (price = 6), profit = 6-1 = 5.\n",
    "```\n",
    "\n",
    "Example 2:\n",
    "```\n",
    "Input: prices = [7,6,4,3,1]\n",
    "Output: 0\n",
    "Explanation: In this case, no transactions are done and the max profit = 0.\n",
    "```\n",
    "\n",
    "**Constraints**:\n",
    "* 1 <= prices.length <= 105  \n",
    "* 0 <= prices[i] <= 104\n",
    "\n",
    "Level: Easy - Medium"
   ]
  },
  {
   "cell_type": "markdown",
   "id": "8d206b89-0628-489a-bcfb-c3b8431a20d8",
   "metadata": {},
   "source": [
    "## Approach 1: Brute force\n",
    "\n",
    "Find $max(prices[j] - prices[i])$ for every i and j such that j > i."
   ]
  },
  {
   "cell_type": "markdown",
   "id": "78dc3aaa-11d2-41f1-8231-6fbdd87a333c",
   "metadata": {},
   "source": [
    "## Approach 2: One pass\n",
    "\n",
    "The maximum profit that can be made by selling a day $i$ is determined by the minumum prices over the prious days. Thus, maining a min_price so far can help to find the max profit by one pass.\n",
    "\n",
    "- Time complexity:  $O(n)$\n",
    "- Space complexity: $O(1)$"
   ]
  },
  {
   "cell_type": "code",
   "execution_count": 1,
   "id": "9ad327aa-65f6-4951-bc2a-406fab8b47dc",
   "metadata": {},
   "outputs": [],
   "source": [
    "from typing import List\n",
    "\n",
    "def buy_and_sell_stock_once(prices: List[int]) -> int:\n",
    "    max_profit = 0\n",
    "    min_price = prices[0]\n",
    "    for p in prices:\n",
    "        max_profit = max(max_profit, p - min_price)\n",
    "        if p < min_price:\n",
    "            min_price = p\n",
    "    return max_profit"
   ]
  },
  {
   "cell_type": "code",
   "execution_count": 2,
   "id": "a68d5a93-3d4f-42f3-863a-2201194d0c43",
   "metadata": {},
   "outputs": [],
   "source": [
    "assert buy_and_sell_stock_once([7,1,5,3,6,4]) == 5\n",
    "assert buy_and_sell_stock_once([7,6,4,3,1]) == 0"
   ]
  },
  {
   "cell_type": "markdown",
   "id": "94b20450-50fb-4078-b8c8-5181a333af4a",
   "metadata": {},
   "source": [
    "## Buy and sell stocks unlimited times (Easy)\n",
    "\n",
    "How to maximize the profit if no restriction on how many times you can buy and sell? Still, You can only hold at most one share of this stock at any time, but you can buy and sell on the same day.\n",
    "\n",
    "Example 1:  \n",
    "```\n",
    "Input: prices = [7,1,5,3,6,4]\n",
    "Output: 7\n",
    "Explanation: Buy on day 2 (price = 1) and sell on day 3 (price = 5), profit = 5-1 = 4.\n",
    "Then buy on day 4 (price = 3) and sell on day 5 (price = 6), profit = 6-3 = 3.\n",
    "Total profit is 4 + 3 = 7.\n",
    "```\n",
    "\n",
    "Example 2:  \n",
    "```\n",
    "Input: prices = [1,2,3,4,5]\n",
    "Output: 4\n",
    "Explanation: Buy on day 1 (price = 1) and sell on day 5 (price = 5), profit = 5-1 = 4.\n",
    "Total profit is 4.\n",
    "```\n",
    "\n",
    "Example 3:  \n",
    "```\n",
    "Input: prices = [7,6,4,3,1]\n",
    "Output: 0\n",
    "Explanation: There is no way to make a positive profit, so the maximum profit is 0.\n",
    "```\n",
    "\n",
    "**Constraints**:\n",
    "\n",
    "* 1 <= prices.length <= 3 * 10<sup>4</sup>\n",
    "* 0 <= prices[i] <= 10<sup>4</sup>\n",
    "\n",
    "Level: Easy"
   ]
  },
  {
   "cell_type": "markdown",
   "id": "cf4db13a-c101-447a-99c9-5d7fff9cb85b",
   "metadata": {},
   "source": [
    "### Solution: Greedy (Peak Valley Approach)\n",
    "\n",
    "Since you can buy and sell on the same day, the strategy to maximize the profit is: buy if tomorrow's price is higher than today's, and sell it tomorrow, and buy again the same day if the next day is high...\n",
    "\n",
    "For example, if the prices is [1, 2, 3, 4], you can buy at 1, sell at 2, then buy at 2 **on the same day** and sell at 3, and buy at 3 then sell at 4. You can make 3 dollors. This strategry also works on [1, 3, 2, 5, 4], however, you sell at 3 and don't buy at 3 because the price next day is 2, in which case you buy at 2 instead."
   ]
  },
  {
   "cell_type": "code",
   "execution_count": 3,
   "id": "bb745bee-2d74-4564-a3b4-693d2d6ab695",
   "metadata": {},
   "outputs": [],
   "source": [
    "# Leetcode 122. Best Time to Buy and Sell Stock II\n",
    "\n",
    "class Solution:\n",
    "    def maxProfit(self, prices: List[int]) -> int:\n",
    "        profit = 0\n",
    "        for i in range(1, len(prices)):\n",
    "            profit += max(0, prices[i]-prices[i-1])\n",
    "        return profit"
   ]
  },
  {
   "cell_type": "code",
   "execution_count": 5,
   "id": "cbd6aa43-e924-4737-a513-f8eb2a17de9c",
   "metadata": {},
   "outputs": [],
   "source": [
    "solution = Solution()\n",
    "assert solution.maxProfit([7,1,5,3,6,4]) == 7\n",
    "assert solution.maxProfit([1,2,3,4,5]) == 4\n",
    "assert solution.maxProfit([7,6,4,3,1]) == 0"
   ]
  },
  {
   "cell_type": "code",
   "execution_count": null,
   "id": "18fdc60e-ffb6-411b-b4e8-c20b6b3a96a8",
   "metadata": {},
   "outputs": [],
   "source": [
    "Related: Buy and Sell Stock Twice"
   ]
  }
 ],
 "metadata": {
  "kernelspec": {
   "display_name": "Python 3 (ipykernel)",
   "language": "python",
   "name": "python3"
  },
  "language_info": {
   "codemirror_mode": {
    "name": "ipython",
    "version": 3
   },
   "file_extension": ".py",
   "mimetype": "text/x-python",
   "name": "python",
   "nbconvert_exporter": "python",
   "pygments_lexer": "ipython3",
   "version": "3.8.9"
  }
 },
 "nbformat": 4,
 "nbformat_minor": 5
}
