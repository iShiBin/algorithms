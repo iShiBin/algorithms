{
 "cells": [
  {
   "cell_type": "markdown",
   "id": "f5aacd08-391b-4bd4-92de-a5bd90fe6286",
   "metadata": {},
   "source": [
    "## Best Time to Buy and Sell Stock Twice\n",
    "\n",
    "You are given an array prices where prices[i] is the price of a given stock on the i<sup>th</sup> day.\n",
    "\n",
    "Find the maximum profit you can achieve. You may complete at most two transactions.\n",
    "\n",
    "Note: You may not engage in multiple transactions simultaneously (i.e., you must sell the stock before you buy again).\n",
    "\n",
    "Example 1:\n",
    "```\n",
    "Input: prices = [3,3,5,0,0,3,1,4]\n",
    "Output: 6\n",
    "Explanation: Buy on day 4 (price = 0) and sell on day 6 (price = 3), profit = 3-0 = 3.\n",
    "Then buy on day 7 (price = 1) and sell on day 8 (price = 4), profit = 4-1 = 3.\n",
    "```\n",
    "\n",
    "Example 2:\n",
    "```\n",
    "Input: prices = [1,2,3,4,5]\n",
    "Output: 4\n",
    "Explanation: Buy on day 1 (price = 1) and sell on day 5 (price = 5), profit = 5-1 = 4.\n",
    "Note that you cannot buy on day 1, buy on day 2 and sell them later, as you are engaging multiple transactions at the same time. You must sell before buying again.\n",
    "```\n",
    "\n",
    "Example 3:\n",
    "```\n",
    "Input: prices = [7,6,4,3,1]\n",
    "Output: 0\n",
    "Explanation: In this case, no transaction is done, i.e. max profit = 0.\n",
    "```\n",
    "\n",
    "Example 4:\n",
    "```\n",
    "Input: prices = [1]\n",
    "Output: 0\n",
    "```\n",
    "\n",
    "**Constraints**:  \n",
    "* 1 <= prices.length <= 10<sup>5</sup>\n",
    "* 0 <= prices[i] <= 10<sup>5</sup>"
   ]
  },
  {
   "cell_type": "markdown",
   "id": "1a215566-b4c2-4edd-874b-d0f5885887db",
   "metadata": {},
   "source": [
    "## Approach 1: Devide and conque\n",
    "\n",
    "Transform this problem to two sub problems of buying and selling once. Let f(k) is the max profit when the first sell is at index k, then: f(k) = p(0,k) + p(k+1, len(prices)) when p(i,j)m denotes buying at index i and selling at j.\n",
    "\n",
    "Next is to let k iterate the array and count the global max.\n",
    "\n",
    "* Time complexity: $O(n^2)$\n",
    "* Space complexity: $O(n)$"
   ]
  },
  {
   "cell_type": "code",
   "execution_count": 1,
   "id": "9513372d-80c1-4a2d-a47e-c82ea77e5dab",
   "metadata": {},
   "outputs": [],
   "source": [
    "from typing import List\n",
    "\n",
    "def buy_and_sell_stock_once(prices: List[float]) -> float:\n",
    "    if not prices or len(prices) == 1: return 0\n",
    "    max_profit = 0\n",
    "    min_price = prices[0]\n",
    "    for p in prices:\n",
    "        max_profit = max(max_profit, p - min_price)\n",
    "        if p < min_price:\n",
    "            min_price = p\n",
    "    return max_profit\n",
    "\n",
    "def buy_and_sell_stock_twice(prices: List[float]) -> float:\n",
    "    max_profit = 0\n",
    "    for k in range(len(prices)):\n",
    "        profit1 = buy_and_sell_stock_once(prices[:k])\n",
    "        profit2 = buy_and_sell_stock_once(prices[k:])\n",
    "        max_profit = max(max_profit, profit1+profit2)\n",
    "    return max_profit\n"
   ]
  },
  {
   "cell_type": "code",
   "execution_count": 2,
   "id": "b40c0c40-f719-46ee-a156-339fcdcc7082",
   "metadata": {},
   "outputs": [],
   "source": [
    "assert buy_and_sell_stock_twice([3,3,5,0,0,3,1,4]) == 6\n",
    "assert buy_and_sell_stock_twice([1,2,3,4,5]) == 4\n",
    "assert buy_and_sell_stock_twice([7,6,4,3,1]) == 0"
   ]
  },
  {
   "cell_type": "markdown",
   "id": "4276a7bf-d7ce-4d63-ace0-2f681a32edbf",
   "metadata": {},
   "source": [
    "Note: The algorithm did not pass the Leetcode online test at test case 202/214 due to time limit exceeded.  \n",
    "It takes a long time to run on a 50000 long increasing array."
   ]
  },
  {
   "cell_type": "markdown",
   "id": "737c8e3e-b1c2-43b6-bfa0-7faca11578f9",
   "metadata": {},
   "source": [
    "## Approach 2: Dynamic programming\n",
    "\n",
    "In dynamic programming algorithms, normally we create an array of one or two dimensions to keep the intermediate optimal results. In this problem though, we would use two arrays, with one array keeping the results of sequence from left to right and the other array keeping the results of sequence from right to left.\n",
    "\n",
    "Now, if we divide the sequence of prices around the element at the index i, into two subsequences, with left subsequences as Prices[0], Prices[1], ... Prices[i] and the right subsequence as Prices[i+1], ... Prices[N-1], then the total maximum profits that we obtain from this division (denoted as max_profits[i]) can be expressed as follows: \n",
    "\n",
    "`max_profits[i] = left_profits[i] + right_profits[i+1]`\n",
    "\n",
    "For example, if prices = [7, 1, 5, 3, 6, 4]:\n",
    "```\n",
    "left_profits: 0 0 4 4 5 5\n",
    "               \\ \\ \\ \\ \\   \n",
    "right_profits:5 5 3 3 0 0\n",
    "```\n",
    "Thus, the max profits will be max of [5, 3, 7, 4, 5], which is 7.\n",
    "\n",
    "Inspired by the Leetcode solutoin: https://leetcode.com/problems/best-time-to-buy-and-sell-stock-iii/solution/"
   ]
  },
  {
   "cell_type": "code",
   "execution_count": 3,
   "id": "fab197ce-d603-4a90-b296-8507401aac03",
   "metadata": {},
   "outputs": [],
   "source": [
    "def buy_and_sell_stock_twice_dp(prices):\n",
    "    \"\"\"\n",
    "    :type prices: List[int]\n",
    "    :rtype: int\n",
    "    \"\"\"\n",
    "    if len(prices) <= 1:\n",
    "        return 0\n",
    "\n",
    "    left_min = prices[0]\n",
    "    right_max = prices[-1]\n",
    "\n",
    "    length = len(prices)\n",
    "    left_profits = [0] * length\n",
    "    # pad the right DP array with an additional zero for convenience.\n",
    "    right_profits = [0] * (length + 1)\n",
    "\n",
    "    # construct the bidirectional DP array\n",
    "    for l in range(1, length):\n",
    "        left_profits[l] = max(left_profits[l-1], prices[l] - left_min)\n",
    "        left_min = min(left_min, prices[l])\n",
    "\n",
    "        r = length - 1 - l\n",
    "        right_profits[r] = max(right_profits[r+1], right_max - prices[r])\n",
    "        right_max = max(right_max, prices[r])\n",
    "\n",
    "    max_profit = 0\n",
    "    for i in range(0, length):\n",
    "        max_profit = max(max_profit, left_profits[i] + right_profits[i+1])\n",
    "\n",
    "    return max_profit"
   ]
  },
  {
   "cell_type": "code",
   "execution_count": 4,
   "id": "47ea8bd9-63aa-47c1-8a4c-b15ba1cbb0a6",
   "metadata": {},
   "outputs": [],
   "source": [
    "assert buy_and_sell_stock_twice_dp( [7, 1, 5, 3, 6, 4]) == 7\n",
    "assert buy_and_sell_stock_twice_dp([3,3,5,0,0,3,1,4]) == 6\n",
    "assert buy_and_sell_stock_twice_dp([1,2,3,4,5]) == 4\n",
    "assert buy_and_sell_stock_twice_dp([7,6,4,3,1]) == 0"
   ]
  },
  {
   "cell_type": "markdown",
   "id": "da57156b-ec53-46b2-aa83-c6ad6988b9a3",
   "metadata": {},
   "source": [
    "refs: [Leetcode 123. Best Time to Buy and Sell Stock III](https://leetcode.com/problems/best-time-to-buy-and-sell-stock-iii/)\n",
    "\n",
    "Follow-ups:\n",
    "* Buy and sell at maximum k times\n",
    "* Buh and sell at max k times with one day cool time"
   ]
  }
 ],
 "metadata": {
  "kernelspec": {
   "display_name": "Python 3 (ipykernel)",
   "language": "python",
   "name": "python3"
  },
  "language_info": {
   "codemirror_mode": {
    "name": "ipython",
    "version": 3
   },
   "file_extension": ".py",
   "mimetype": "text/x-python",
   "name": "python",
   "nbconvert_exporter": "python",
   "pygments_lexer": "ipython3",
   "version": "3.8.9"
  }
 },
 "nbformat": 4,
 "nbformat_minor": 5
}
