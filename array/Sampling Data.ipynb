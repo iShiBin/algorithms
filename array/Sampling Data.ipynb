{
 "cells": [
  {
   "cell_type": "markdown",
   "id": "e653144b-d145-4693-bc82-0e250cf7d801",
   "metadata": {},
   "source": [
    "## Sample offline data\n",
    "\n",
    "A company needs to select a random subset with size K from its customers to roll out a new feature.  \n",
    "\n",
    "Implement an algorithm that takes as input an array of distinct elements and a size, and returns a subset of the given size of the array elements. All subsets should be equally likely.\n",
    "\n",
    "Return the result in input array itself.\n",
    "\n",
    "Hint: How would you construct a random subset of size $k + 1$ give a random subset of size k?\n"
   ]
  },
  {
   "cell_type": "markdown",
   "id": "9d2f7dce-cccf-4361-a488-648626e38160",
   "metadata": {},
   "source": [
    "### Approach\n",
    "\n",
    "How do you randomly select 2 cards from a deck of cards? You choose one readomly, and then choose another one from the rest randomly. We can apply the same princinple here. Intuitively, if all subset of size k are equally likely, then this construction procss ensures that the subsets of size $k + 1$ are also equally likely. A formal proff uses mathematical induction.\n",
    "\n",
    "As a concrete example, let the input be A = [3, 7, 5, 11] and the size be 3.\n",
    "* In the first iteration, use a random number generator to pick a random integer in the range of [0, 3], e.g. 2\n",
    "* Swap A[0] with A[2], and now the array is [5, 7, 3, 11]. Now we pick a another random number of [1,3], e.g. 3\n",
    "* Swap A[1] with A[3] ...\n",
    "* Continue doing after k pickups, and we got the first k elements as the target subset\n",
    "\n",
    "**Time complexity**: $O(k)$  \n",
    "**Space complexity**: $O(1)$  "
   ]
  },
  {
   "cell_type": "code",
   "execution_count": 4,
   "id": "a503054d-1b81-4ee9-a9c3-6639cb7f5ed9",
   "metadata": {},
   "outputs": [],
   "source": [
    "from typing import List\n",
    "\n",
    "def random_sampling(k: int, A: List[int]) -> None:\n",
    "\n",
    "    for i in range(k):\n",
    "        # Generate a random index in [i, len(A) - 1].\n",
    "        r = random.randint(i, len(A) - 1)\n",
    "        A[i], A[r] = A[r], A[i]\n"
   ]
  },
  {
   "cell_type": "markdown",
   "id": "4f4b184c-27a7-47f9-a100-a63ea047c4c5",
   "metadata": {},
   "source": [
    "**Variant**\n",
    "\n",
    "Write a program that takes input of a positive integer n and a size k <= n, and returns a size-k subset of [0, 1, 2, ... , n-1]. The subset should be reprensentd as an array. All subsets should be equally likely. in addition, all permutations of elements of teh array should be equally likely. \n"
   ]
  },
  {
   "cell_type": "code",
   "execution_count": null,
   "id": "c05a9979-13d6-465c-bf10-8a0cc600d84a",
   "metadata": {},
   "outputs": [],
   "source": [
    "def random_subset(n: int, k: int) -> List[int]:\n",
    "    A = [i for i in range(n)]\n",
    "    for i in range(k):\n",
    "        r = random.randint(i, n-1)\n",
    "        A[i], A[r] = A[r], A[i]\n",
    "    return A[:k]\n"
   ]
  },
  {
   "cell_type": "code",
   "execution_count": 5,
   "id": "8cd166f4-790b-40f0-862a-c7cf1a09aa69",
   "metadata": {},
   "outputs": [],
   "source": [
    "# Another way is to use Python library random.sample(population, k)\n",
    "# Return a k length list of unique elements chosen from the population sequence or set. Used for random sampling without replacement.\n",
    "\n",
    "def random_subset(n: int, k: int) -> List[int]:\n",
    "    \"\"\"\n",
    "    Use the library random.sample(population, k) method\n",
    "    \"\"\"\n",
    "    return random.sample(range(n), k)"
   ]
  },
  {
   "cell_type": "code",
   "execution_count": null,
   "id": "3b37b843-919a-44b6-b888-59522751e534",
   "metadata": {},
   "outputs": [],
   "source": []
  }
 ],
 "metadata": {
  "kernelspec": {
   "display_name": "Python 3 (ipykernel)",
   "language": "python",
   "name": "python3"
  },
  "language_info": {
   "codemirror_mode": {
    "name": "ipython",
    "version": 3
   },
   "file_extension": ".py",
   "mimetype": "text/x-python",
   "name": "python",
   "nbconvert_exporter": "python",
   "pygments_lexer": "ipython3",
   "version": "3.8.9"
  }
 },
 "nbformat": 4,
 "nbformat_minor": 5
}
