{
 "cells": [
  {
   "cell_type": "markdown",
   "id": "53a1024e-3562-4603-a2c0-54e572192ce3",
   "metadata": {},
   "source": [
    "## Permutations\n",
    "\n"
   ]
  },
  {
   "cell_type": "markdown",
   "id": "52892815-5c94-406f-9fd1-3b58c9a786d4",
   "metadata": {},
   "source": [
    "## Next permutation\n",
    "\n",
    "Implement next permutation, which rearranges numbers into the lexicographically next greater permutation of numbers.\n",
    "\n",
    "If such an arrangement is not possible, it must rearrange it as the lowest possible order (i.e., sorted in ascending order).\n",
    "\n",
    " \n",
    "Example 1:\n",
    "```\n",
    "Input: nums = [1,2,3]\n",
    "Output: [1,3,2]\n",
    "```\n",
    "\n",
    "Example 2:\n",
    "```\n",
    "Input: nums = [3,2,1]\n",
    "Output: [1,2,3]\n",
    "```\n",
    "\n",
    "Example 3:\n",
    "```\n",
    "Input: nums = [1,1,5]\n",
    "Output: [1,5,1]\n",
    "```\n",
    "\n",
    "Example 4:\n",
    "```\n",
    "Input: nums = [1]\n",
    "Output: [1]\n",
    "```\n",
    "\n",
    "Constraints:\n",
    "* 1 <= nums.length <= 100\n",
    "* 0 <= nums[i] <= 100\n",
    "\n",
    "Level: Medium"
   ]
  },
  {
   "cell_type": "markdown",
   "id": "94c9698a-5801-42b1-90b6-b66278794bcd",
   "metadata": {},
   "source": [
    "**Soution**\n",
    "\n",
    "https://leetcode.com/problems/next-permutation/solution/"
   ]
  },
  {
   "cell_type": "code",
   "execution_count": null,
   "id": "58be5354-16ab-49ab-bf50-0a8ca60e571d",
   "metadata": {},
   "outputs": [],
   "source": []
  }
 ],
 "metadata": {
  "kernelspec": {
   "display_name": "Python 3 (ipykernel)",
   "language": "python",
   "name": "python3"
  },
  "language_info": {
   "codemirror_mode": {
    "name": "ipython",
    "version": 3
   },
   "file_extension": ".py",
   "mimetype": "text/x-python",
   "name": "python",
   "nbconvert_exporter": "python",
   "pygments_lexer": "ipython3",
   "version": "3.8.9"
  }
 },
 "nbformat": 4,
 "nbformat_minor": 5
}
