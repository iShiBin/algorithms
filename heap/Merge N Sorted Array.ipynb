{
 "cells": [
  {
   "cell_type": "markdown",
   "id": "5e9467b2-fc14-4776-8708-854bccfbf8f7",
   "metadata": {},
   "source": [
    "# Merge sorted entries\n",
    "\n",
    "## Problems\n",
    "\n",
    "**A**. Given 500 files, each containing stock trade infroamtion for an S&P 500 company. Eeach trade is encoded by a line in the following format:   \n",
    "1232111, APPL, 30, 456.12. \n",
    "\n",
    "The first number is the time of the trade expressed as the number of milliseconds since the start of the day's trading. Lines within each file are sorted in incresing order of time. The remaining values are the stock symbol, number of shares, and price. You are to create a single file containing all the trades from teh 500 files, sorted in order of increasing trade times. The individual file are of teh order of 5 - 100 megabytes, the combined file will be of the order of five gigabytes.\n",
    "\n",
    "**B**. Give multiple log files, each file contains many **ordered** log entries from an application e.g.:\n",
    "2020-11-01T01:12:29.023 VPN \"some log information\" \n",
    "2020-11-01T01:12:29.023 VPN \"another log information\"\n",
    "\n",
    "How to create a single log files from all the log sources with ordered timestamp.\n",
    "\n",
    "## Abstract\n",
    "\n",
    "Write a program that takes input of multiple sorted sequences, computes the un union of these sequences as a sorted sequences.\n",
    "\n",
    "Exampe 1:\n",
    "```\n",
    "Input:  [[3, 5, 7], [0, 6], [0, 6, 28]]\n",
    "Output: [0, 0, 3, 5, 6, 6, 7, 28]\n",
    "```\n",
    "\n",
    "Example 2:\n",
    "```\n",
    "Input:  [[1,4,5],[1,3,4],[2,6]]\n",
    "Output: [1,1,2,3,4,4,5,6]\n",
    "```\n",
    "\n",
    "**Constraints**:\n",
    "\n",
    "* lists[i] is sorted in ascending order.\n",
    "* 0 <= lists[i].length <= 500\n",
    "* $-10^4 <= lists[i][j] <= 10^4$ \n",
    "* The sum of lists[i].length won't exceed $10^4$."
   ]
  },
  {
   "cell_type": "markdown",
   "id": "a8118a03-32e4-4fdc-ae1c-32854e93a7b4",
   "metadata": {},
   "source": [
    "## Approach 1: Brute force\n",
    "\n",
    "Merge all sub-list to a huge list and then sort the merged list.\n",
    "\n",
    "**Time complexity**: $O(N*logN)$ (N is the length of elements in total)"
   ]
  },
  {
   "cell_type": "code",
   "execution_count": 32,
   "id": "f95f5b5c-26f9-4a72-a508-bc3cdd1ecd2a",
   "metadata": {},
   "outputs": [],
   "source": [
    "from typing import List\n",
    "import itertools\n",
    "\n",
    "def merge_sorted_arrays(sorted_arrays: List[List[int]]) -> List[int]:\n",
    "    return list(sorted(itertools.chain(*sorted_arrays)))"
   ]
  },
  {
   "cell_type": "code",
   "execution_count": 33,
   "id": "0d5add76-f25f-4268-b367-8136be0ce340",
   "metadata": {},
   "outputs": [],
   "source": [
    "\"\"\"\n",
    "Generate sample test data to test the runtime performance.\n",
    "\"\"\"\n",
    "\n",
    "import random\n",
    "\n",
    "test_data = []\n",
    "N = 1000\n",
    "\n",
    "for i in range(N):\n",
    "    l = random.choices(range(10000), k = random.randint(100, 500))\n",
    "    l.sort()\n",
    "    test_data.append(l)\n"
   ]
  },
  {
   "cell_type": "code",
   "execution_count": 34,
   "id": "6a2b7ac0-6353-4036-8582-e785108ba5b7",
   "metadata": {},
   "outputs": [
    {
     "name": "stdout",
     "output_type": "stream",
     "text": [
      "50.1 ms ± 1.36 ms per loop (mean ± std. dev. of 7 runs, 10 loops each)\n"
     ]
    }
   ],
   "source": [
    "%timeit merge_sorted_arrays(test_data)"
   ]
  },
  {
   "cell_type": "markdown",
   "id": "467814b3-d732-49e5-b445-d9a4998ec8b8",
   "metadata": {},
   "source": [
    "## Appraoch 2: Recursively merge sort\n",
    "\n",
    "Recursively merge the k files, two at a time usign the merge step from the merge sort. These would be log k stages, and each has time complexity O(n), so the total time complexity is O(n log k). The space complexity of any reasonable implementeation of merge sort would end up being O(n)."
   ]
  },
  {
   "cell_type": "markdown",
   "id": "3f7532d1-762c-4e85-bc19-1cd6cdab01e2",
   "metadata": {},
   "source": [
    "## Approach 3: Heap\n",
    "\n",
    "The brute-force appraoch does not use the fact that the individual sequences are sorted. WE can repeatedly pick the smallest element amongst the first element of each of the reamaining part of each of the sequences.\n",
    "\n",
    "A min-heap is ideal for maintaining a collection of elements when we need to add arbitrary value and extract the smallest element. In practice, we need **additional information for each entry, namely the array it is from, and its index in the array**.  \n",
    "\n",
    "An concrete example is to merge list [3, 5, 7], [0, 6] and [0, 6, 28].\n",
    "\n",
    "| input                                 | min-heap                | pop-up element | output                   | note                                      |\n",
    "| ------------------------------------- | ----------------------- | -------------- | ------------------------ | ----------------------------------------- |\n",
    "| [3, 5, 7]<br />[0, 6]<br />[0, 6, 28] | [ ]                     |                | [ ]                      |                                           |\n",
    "| [5, 7]<br />[6]<br />[6, 28]          | [(3,0), (0,1),(0,2)]    | (0, 1)         | [ 0 ]                    | also be ok to pop (0, 2)                  |\n",
    "| [5, 7]<br />[ ]<br />[6, 28]          | [ (0,2) (3,0), (6, 1) ] | (0, 2)         | [0, 0]                   | min element (0, 2) moved to the heap head |\n",
    "| [5, 7]<br />[ ]<br />[28]             | [(3,0), (6,1) (6,2)]    | (3, 0)         | [0, 0, 3]                |                                           |\n",
    "| [7]<br />[ ]<br />[28]                | [(5,0), (6,1) (6,2)]    | (5, 0)         | [0, 0, 3, 5]             |                                           |\n",
    "| [ ]<br />[ ]<br />[28]                | [(6,1) (6,2),(7,0)]     | (6,1)          | [0, 0, 3, 5, 6]          |                                           |\n",
    "| [ ]<br />[ ]<br />[28]                | [ (6,2),(7,0),(28,2) ]  | (6,2)          | [0, 0, 3, 5, 6, 6]       |                                           |\n",
    "| [ ]<br />[ ]<br />[]                  | [(7,0),(28,2) ]         | (7, 0)         | [0, 0, 3, 5, 6, 6, 7]    |                                           |\n",
    "| [ ]<br />[ ]<br />[]                  | [(28,2)]                | (28,2)         | [0, 0, 3, 5, 6, 6, 7,28] |                                           |\n",
    "\n"
   ]
  },
  {
   "cell_type": "code",
   "execution_count": 35,
   "id": "4e226244-312e-49dc-aa29-4648e1fbd93a",
   "metadata": {},
   "outputs": [],
   "source": [
    "import heapq\n",
    "\n",
    "def merge_sorted_arrays(sorted_arrays: List[List[int]]) -> List[int]:\n",
    "    min_heap = []\n",
    "    sorted_arrays_iters = [iter(x) for x in sorted_arrays]\n",
    "\n",
    "    # initialize: put first elemetn from each iterattor in min_heap\n",
    "    for i, it in enumerate(sorted_arrays_iters):\n",
    "        first_element = next(it, None)\n",
    "        if first_element is not None:\n",
    "            heapq.heappush(min_heap, (first_element, i))\n",
    "\n",
    "    result = []\n",
    "    while min_heap:\n",
    "        smallest_entry, smallest_array_i = heapq.heappop((min_heap))\n",
    "        smallest_array_iter = sorted_arrays_iters[smallest_array_i]\n",
    "        result.append(smallest_entry)\n",
    "        next_element = next(smallest_array_iter, None)\n",
    "        if next_element is not None:\n",
    "            heapq.heappush(min_heap, (next_element, smallest_array_i))\n",
    "    return result\n"
   ]
  },
  {
   "cell_type": "code",
   "execution_count": 36,
   "id": "97543666-a1f4-467b-aca0-3e6dfb4a995e",
   "metadata": {},
   "outputs": [
    {
     "name": "stdout",
     "output_type": "stream",
     "text": [
      "310 ms ± 11.5 ms per loop (mean ± std. dev. of 7 runs, 1 loop each)\n"
     ]
    }
   ],
   "source": [
    "%timeit merge_sorted_arrays(test_data)"
   ]
  },
  {
   "cell_type": "code",
   "execution_count": 37,
   "id": "a107f210-4853-4fad-92cd-20b480b76532",
   "metadata": {},
   "outputs": [],
   "source": [
    "# pythonic solutoin: heapq.merge() function is designed to solve this kind of problem\n",
    "\n",
    "def merge_sorted_array(sorted_array):\n",
    "    return list(heapq.merge(*sorted_arrays))"
   ]
  },
  {
   "cell_type": "code",
   "execution_count": 38,
   "id": "dc867aaa-1bfb-41a1-89be-6f9c55b184fb",
   "metadata": {},
   "outputs": [
    {
     "name": "stdout",
     "output_type": "stream",
     "text": [
      "314 ms ± 10.1 ms per loop (mean ± std. dev. of 7 runs, 1 loop each)\n"
     ]
    }
   ],
   "source": [
    "%timeit merge_sorted_arrays(test_data)"
   ]
  },
  {
   "cell_type": "markdown",
   "id": "9d5ea227-b234-4bc5-b724-c3c250de149e",
   "metadata": {},
   "source": [
    "**Interest findings**: Python's sort libary is actually pretty fast, 6x fast than using heap. The vanilla python uses [Timsort](https://en.wikipedia.org/wiki/Timsort), which sorts depending the characters of the array."
   ]
  },
  {
   "cell_type": "code",
   "execution_count": null,
   "id": "679d2340-a1ba-471d-9566-0950fefd2eac",
   "metadata": {},
   "outputs": [],
   "source": []
  }
 ],
 "metadata": {
  "kernelspec": {
   "display_name": "Python 3 (ipykernel)",
   "language": "python",
   "name": "python3"
  },
  "language_info": {
   "codemirror_mode": {
    "name": "ipython",
    "version": 3
   },
   "file_extension": ".py",
   "mimetype": "text/x-python",
   "name": "python",
   "nbconvert_exporter": "python",
   "pygments_lexer": "ipython3",
   "version": "3.8.9"
  }
 },
 "nbformat": 4,
 "nbformat_minor": 5
}
