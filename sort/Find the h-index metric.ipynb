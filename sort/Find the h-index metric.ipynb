{
 "cells": [
  {
   "cell_type": "markdown",
   "id": "e76e656a-4d98-464a-8cac-fa66d9dd4e04",
   "metadata": {},
   "source": [
    "# Find the h-index Metric\n",
    "\n",
    "The h-index is a metric that measures both the productivity and citation impact of a researcher. Specifically, a research’s h-index is the largest number `h` such that the research has published `h` pages that have each been cited at least `h` times.\n",
    "\n",
    "For example, if Carl has published papers A, B, C, D, which have been cited 3, 1, 4, 1 time, respectively, then his h-index is `2` (corresponding to the pagers A, C).\n",
    "\n",
    "Design an algorithm to determine a research’s h-index.\n",
    "\n",
    "## Abstraction\n",
    "\n",
    "Given an array of natural number, find the largest `h` such that there are at least `h` entries in the array that is greater than or equal to `h`.\n",
    "\n",
    "Example 1:  \n",
    "```\n",
    "Input: [3, 1, 4, 1]\n",
    "Ouput: 2\n",
    "Explanation: The h-index is 2 because these 2 entries [3, 4] have >= 2 citations.\n",
    "It is not 3 because there are only 2 entry [3, 4] which has >= 3 citation\n",
    "```\n",
    "\n",
    "Example 2:  \n",
    "```\n",
    "Input: [1, 4, 1, 5, 2, 1, 2, 5, 6]\n",
    "Ouput: 4\n",
    "Explanation: 4\n",
    "```\n",
    "\n",
    "Example 3:  \n",
    "```\n",
    "Input: [1]\n",
    "Output: 1\n",
    "Explanation: Paper [1] is with at least 1 citation.\n",
    "```\n",
    "\n",
    "Example 4:    \n",
    "```\n",
    "Input: [0]\n",
    "Ouput: 0\n",
    "Explanation: No entry is cited. Same output for input [0, 0] etc.\n",
    "```\n",
    "\n",
    "**Hints**\n",
    "\n",
    "- An easy approach is to sort the array first.\n",
    "- What are the possible values of the h-index?\n",
    "- A faster approach is to use extra space."
   ]
  },
  {
   "cell_type": "markdown",
   "id": "1c7b6872-8f25-493a-a7a6-10ebd1837bff",
   "metadata": {
    "tags": []
   },
   "source": [
    "## Approach 1: Brute force count\n",
    "\n",
    "Count from 1 onwards, and check how many entries in the array are greater than or equal to teh count. As soon as there are fewer entries than the count, the h-index is one less than the count.\n",
    "\n",
    "Applied to the example of [1, 4, 1, 4, 2, 1, 3, 5, 6], the count progresses as below. So we stop at step 4, which is the h-index.\n",
    "\n",
    "| citation | 1 | 2 | 3 | 4 | 5 |\n",
    "| -------- | - | - | - | - | - |\n",
    "| count    | 9 | 6 | 5 | 4 | 2 |\n"
   ]
  },
  {
   "cell_type": "code",
   "execution_count": 20,
   "id": "7a3c157c-9b25-4dec-8779-d654b73b31ce",
   "metadata": {},
   "outputs": [],
   "source": [
    "def h_index(citations) -> int:\n",
    "    if not citations: return 0\n",
    "    i = min(min(citations), len(citations))\n",
    "    while i <= len(citations):\n",
    "        n = sum(t >= i for t in citations)\n",
    "        if i <= n:\n",
    "            i += 1\n",
    "        else:\n",
    "            break\n",
    "    return max(i - 1, 0)"
   ]
  },
  {
   "cell_type": "code",
   "execution_count": 21,
   "id": "41ca755e-47a8-4c9b-9868-9f406bfeaeaa",
   "metadata": {},
   "outputs": [],
   "source": [
    "assert h_index([3, 1, 4, 1]) == 2\n",
    "assert h_index([1, 4, 1, 5, 2, 1, 2, 5, 6]) == 4\n",
    "assert h_index([1]) == 1\n",
    "assert h_index([0]) == 0"
   ]
  },
  {
   "cell_type": "markdown",
   "id": "ab121dcd-0d2e-443b-8217-6087e904567d",
   "metadata": {},
   "source": [
    "- Time complexity : O(n<sup>2</sup>)\n",
    "- Space complexity : O(1)"
   ]
  },
  {
   "cell_type": "markdown",
   "id": "44226811-25bb-403a-9430-968b322fd590",
   "metadata": {},
   "source": [
    "## Approach 2: Sort and count\n",
    "\n",
    "One way to improve the brute force algorithm is to avoid the repeated examines. To find such a square length, we first sort the citations array in *descending* order. After sorting, if citations[i]>i, then papers 0 to i all have at least i+1 citations.\n",
    "\n",
    "Thus, to find h-index, we search for the largest i (let's call it i′) such that citations[i] > i, and therefore the h-index is i′+1\n",
    "\n",
    "For example:\n",
    "\n",
    "|                  i | **0** | **1** | **2** | **3** | **4** | **5** | **6** |\n",
    "| -----------------: | :---- | ----- | ----- | ----- | ----- | ----- | ----- |\n",
    "|   sorted citations | 10    | 9     | 5     | 3     | 3     | 2     | 1     |\n",
    "| citations[i] > i? | true  | true  | true  | false | false | false | false |"
   ]
  },
  {
   "cell_type": "code",
   "execution_count": 22,
   "id": "bb19f8f1-ec6c-4645-9fe7-abeeb5b786ec",
   "metadata": {},
   "outputs": [],
   "source": [
    "def h_index(citations) -> int:\n",
    "    citations.sort(reverse=True)\n",
    "    i = 0\n",
    "    while i < len(citations) and i < citations[i]:\n",
    "        i += 1\n",
    "    return i"
   ]
  },
  {
   "cell_type": "code",
   "execution_count": 23,
   "id": "3b664655-43f5-4ed6-805e-82e6d131a103",
   "metadata": {},
   "outputs": [],
   "source": [
    "assert h_index([3, 1, 4, 1]) == 2\n",
    "assert h_index([1, 4, 1, 5, 2, 1, 2, 5, 6]) == 4\n",
    "assert h_index([1]) == 1\n",
    "assert h_index([0]) == 0"
   ]
  },
  {
   "cell_type": "markdown",
   "id": "60d3762c-adbc-4680-9791-2b52a5227c50",
   "metadata": {},
   "source": [
    "- Time complexity: O(N*logN)\n",
    "- Space complexity:  O(1)"
   ]
  },
  {
   "cell_type": "markdown",
   "id": "84e1cf0e-9082-4581-b3a6-0b371a478c43",
   "metadata": {},
   "source": [
    "## [Approach 3: Smart count](https://leetcode.com/problems/h-index/solution/)\n",
    "\n",
    "To achieve better performance, we need non-comparison based sorting algorithms. The most commonly used non-comparison sorting is `counting sort`.\n",
    "\n",
    "> Counting sort operates by counting the number of objects that have each distinct key value, and using arithmetic on those tallies to determine the positions of each key value in the output sequence. Its running time is linear in the number of items and the difference between the maximum and minimum keys, so it is only suitable for direct use in situations where the variation in keys is not significantly greater than the number of items.\n",
    "\n",
    "> \\---by Wikipedia\n",
    "\n",
    "However, in our problem, the keys are the citations of each paper which can be much larger than the number of papers nn. It seems that we cannot use `counting sort`. The trick here is the following observation:\n",
    "\n",
    "> Any citation larger than nn can be replaced by nn and the hh-index will not change after the replacement. The reason is that hh-index is upper bounded by total number of papers nn, i.e.\n",
    "h ≤ n\n",
    "\n",
    "We don't even need to get sorted citations. We can find the h-index by using the paper counts directly.\n",
    "\n",
    "To explain this, let's look at the following example:\n",
    "\n",
    "citations=[1,3,2,3,100]\n",
    "\n",
    "The counting results are:\n",
    "\n",
    "| **k** | **0** | **1** | **2** | **3** | **4** | **5** |\n",
    "| ----- | ----- | ----- | ----- | ----- | ----- | ----- |\n",
    "| count | 0     | 1     | 1     | 2     | 0     | 1     |\n",
    "| s<sub>k</sub>   | 5     | 5     | 4     | 3     | 1     | 1     |\n",
    "\n",
    "The value s<sub>k</sub> is defined as \"the sum of all counts with citation ≥k\" or \"the number of papers having, at least, k citations\". By definition of the h-index, the largest k with k≤s<sub>k</sub>​ is our answer.\n",
    "\n",
    "After replacing 100 with n=5, we have citations=[1,3,2,3,5]. Now, we count the number of papers for each citation number 0 to 5. The counts are [0,1,1,2,0,1]. The first k from right to left (5 down to 0) that have k≤s is the h-index 3.\n",
    "\n",
    "Since we can calculate s<sub>k</sub> on the fly when traverse the count array, we only need one pass through the count array which only costs O(n) time."
   ]
  },
  {
   "cell_type": "code",
   "execution_count": 24,
   "id": "eec01a5c-3a39-49f2-8f1a-3d5fe164ca94",
   "metadata": {},
   "outputs": [],
   "source": [
    "def h_index(citations) -> int:\n",
    "    s = len(citations)\n",
    "    c = [0] * (s + 1)\n",
    "    for i in citations:\n",
    "        c[min(i, s)] += 1\n",
    "\n",
    "    for k, v in enumerate(c):\n",
    "        s -= v\n",
    "        if k >= s:\n",
    "            return k\n",
    "    return 0"
   ]
  },
  {
   "cell_type": "code",
   "execution_count": 25,
   "id": "0905232b-0f00-4614-8096-fe28df8d1564",
   "metadata": {},
   "outputs": [],
   "source": [
    "assert h_index([3, 1, 4, 1]) == 2\n",
    "assert h_index([1, 4, 1, 5, 2, 1, 2, 5, 6]) == 4\n",
    "assert h_index([1]) == 1\n",
    "assert h_index([0]) == 0"
   ]
  },
  {
   "cell_type": "markdown",
   "id": "a783901d-1dbd-43dc-b72e-39e3c3adda60",
   "metadata": {},
   "source": [
    "**Reference**\n",
    "- [LeetCode 274. H-Index](https://leetcode.com/problems/h-index/solution/)\n",
    "- EPI (Elements of Programming Interviews) [solution 13.3](https://github.com/adnanaziz/EPIJudge/blob/master/epi_judge_python_solutions/h_index.py)"
   ]
  },
  {
   "cell_type": "code",
   "execution_count": null,
   "id": "cda13484-6efd-40cb-82bc-15a273b26c61",
   "metadata": {},
   "outputs": [],
   "source": []
  }
 ],
 "metadata": {
  "kernelspec": {
   "display_name": "Python 3 (ipykernel)",
   "language": "python",
   "name": "python3"
  },
  "language_info": {
   "codemirror_mode": {
    "name": "ipython",
    "version": 3
   },
   "file_extension": ".py",
   "mimetype": "text/x-python",
   "name": "python",
   "nbconvert_exporter": "python",
   "pygments_lexer": "ipython3",
   "version": "3.8.9"
  }
 },
 "nbformat": 4,
 "nbformat_minor": 5
}
